{
 "cells": [
  {
   "cell_type": "code",
   "execution_count": 1,
   "metadata": {},
   "outputs": [],
   "source": [
    "import os"
   ]
  },
  {
   "cell_type": "code",
   "execution_count": 2,
   "metadata": {},
   "outputs": [],
   "source": [
    "orig_images = os.listdir('/home/sadevans/space/CloseEyesClassifier/data/EyesDataset')\n",
    "closed_imgs =os.listdir('/home/sadevans/space/CloseEyesClassifier/data/clustered_auto_tcne_CHECKED/close')\n",
    "opened_imgs =os.listdir('/home/sadevans/space/CloseEyesClassifier/data/clustered_auto_tcne_CHECKED/open')\n"
   ]
  },
  {
   "cell_type": "code",
   "execution_count": 3,
   "metadata": {},
   "outputs": [],
   "source": [
    "for img in orig_images:\n",
    "    if img not in closed_imgs and img not in opened_imgs:\n",
    "        print(img)"
   ]
  },
  {
   "cell_type": "code",
   "execution_count": 4,
   "metadata": {},
   "outputs": [
    {
     "data": {
      "text/plain": [
       "0.5225"
      ]
     },
     "execution_count": 4,
     "metadata": {},
     "output_type": "execute_result"
    }
   ],
   "source": [
    "len(closed_imgs)/len(orig_images)"
   ]
  },
  {
   "cell_type": "code",
   "execution_count": 5,
   "metadata": {},
   "outputs": [
    {
     "data": {
      "text/plain": [
       "0.4775"
      ]
     },
     "execution_count": 5,
     "metadata": {},
     "output_type": "execute_result"
    }
   ],
   "source": [
    "len(opened_imgs)/len(orig_images)\n"
   ]
  },
  {
   "cell_type": "code",
   "execution_count": 6,
   "metadata": {},
   "outputs": [],
   "source": [
    "open_dir = '/home/sadevans/space/CloseEyesClassifier/data/clustered_auto_tcne_CHECKED/open'\n",
    "close_dir = '/home/sadevans/space/CloseEyesClassifier/data/clustered_auto_tcne_CHECKED/close'\n",
    "\n",
    "seed = 42"
   ]
  },
  {
   "cell_type": "code",
   "execution_count": 7,
   "metadata": {},
   "outputs": [],
   "source": [
    "import random\n",
    "from sklearn.model_selection import train_test_split\n",
    "\n",
    "\n",
    "def load_image_paths_and_labels(open_dir, close_dir):\n",
    "    open_images = [os.path.join(open_dir, img) for img in os.listdir(open_dir) if img.endswith(('png', 'jpg', 'jpeg'))]\n",
    "    close_images = [os.path.join(close_dir, img) for img in os.listdir(close_dir) if img.endswith(('png', 'jpg', 'jpeg'))]\n",
    "    images = open_images + close_images\n",
    "    labels = [1] * len(open_images) + [0] * len(close_images)\n",
    "    return images, labels\n",
    "\n",
    "# Перемешать пути изображений и метки классов\n",
    "def shuffle_data(images, labels):\n",
    "    combined = list(zip(images, labels))\n",
    "    random.shuffle(combined)\n",
    "    images[:], labels[:] = zip(*combined)\n",
    "    return images, labels\n",
    "\n",
    "# Разделить данные на обучающую, валидационную и тестовую выборки\n",
    "def split_data(images, labels):\n",
    "    train_images, temp_images, train_labels, temp_labels = train_test_split(images, labels, test_size=0.4, stratify=labels, random_state=42)\n",
    "    val_images, test_images, val_labels, test_labels = train_test_split(temp_images, temp_labels, test_size=0.5, stratify=temp_labels, random_state=42)\n",
    "    return train_images, val_images, test_images, train_labels, val_labels, test_labels\n"
   ]
  },
  {
   "cell_type": "code",
   "execution_count": 8,
   "metadata": {},
   "outputs": [
    {
     "name": "stdout",
     "output_type": "stream",
     "text": [
      "Train: 2400 images\n",
      "Validation: 800 images\n",
      "Test: 800 images\n"
     ]
    }
   ],
   "source": [
    "# Пример использования\n",
    "# open_dir = 'path/to/open_dir'\n",
    "# close_dir = 'path/to/close_dir'\n",
    "import numpy as np\n",
    "import torch\n",
    "\n",
    "\n",
    "seed = 42\n",
    "random.seed(seed)\n",
    "np.random.seed(seed)\n",
    "torch.manual_seed(seed)\n",
    "# Загрузить данные\n",
    "images, labels = load_image_paths_and_labels(open_dir, close_dir)\n",
    "\n",
    "# Перемешать данные\n",
    "images, labels = shuffle_data(images, labels)\n",
    "\n",
    "# Разделить данные\n",
    "train_images, val_images, test_images, train_labels, val_labels, test_labels = split_data(images, labels)\n",
    "\n",
    "print(f\"Train: {len(train_images)} images\")\n",
    "print(f\"Validation: {len(val_images)} images\")\n",
    "print(f\"Test: {len(test_images)} images\")"
   ]
  },
  {
   "cell_type": "code",
   "execution_count": 9,
   "metadata": {},
   "outputs": [
    {
     "data": {
      "text/plain": [
       "('/home/sadevans/space/CloseEyesClassifier/data/clustered_auto_tcne_CHECKED/close/003373.jpg',\n",
       " 0)"
      ]
     },
     "execution_count": 9,
     "metadata": {},
     "output_type": "execute_result"
    }
   ],
   "source": [
    "train_images[2000], train_labels[2000]"
   ]
  },
  {
   "cell_type": "code",
   "execution_count": 10,
   "metadata": {},
   "outputs": [
    {
     "data": {
      "text/plain": [
       "0"
      ]
     },
     "execution_count": 10,
     "metadata": {},
     "output_type": "execute_result"
    }
   ],
   "source": [
    "train_labels[train_labels==1]"
   ]
  },
  {
   "cell_type": "code",
   "execution_count": 11,
   "metadata": {},
   "outputs": [],
   "source": [
    "from dataset import ImageTransform, EyeDataset\n",
    "import cv2\n",
    "\n",
    "train_dataset = EyeDataset(train_images, train_labels, transform=ImageTransform('train'))\n",
    "val_dataset = EyeDataset(val_images, val_labels, transform=ImageTransform('val'))\n",
    "test_dataset = EyeDataset(test_images, test_labels, transform=ImageTransform('test'))"
   ]
  },
  {
   "cell_type": "code",
   "execution_count": 12,
   "metadata": {},
   "outputs": [],
   "source": [
    "from torch.utils.data import Dataset, DataLoader\n",
    "\n",
    "train_loader = DataLoader(train_dataset, batch_size=32, shuffle=True)\n",
    "val_loader = DataLoader(val_dataset, batch_size=32, shuffle=False)\n",
    "test_loader = DataLoader(test_dataset, batch_size=32, shuffle=False)"
   ]
  },
  {
   "cell_type": "code",
   "execution_count": 13,
   "metadata": {},
   "outputs": [
    {
     "name": "stdout",
     "output_type": "stream",
     "text": [
      "[[[ 96  96  96]\n",
      "  [108 108 108]\n",
      "  [109 109 109]\n",
      "  ...\n",
      "  [139 139 139]\n",
      "  [147 147 147]\n",
      "  [145 145 145]]\n",
      "\n",
      " [[101 101 101]\n",
      "  [103 103 103]\n",
      "  [101 101 101]\n",
      "  ...\n",
      "  [129 129 129]\n",
      "  [136 136 136]\n",
      "  [137 137 137]]\n",
      "\n",
      " [[102 102 102]\n",
      "  [ 96  96  96]\n",
      "  [ 90  90  90]\n",
      "  ...\n",
      "  [117 117 117]\n",
      "  [124 124 124]\n",
      "  [129 129 129]]\n",
      "\n",
      " ...\n",
      "\n",
      " [[128 128 128]\n",
      "  [128 128 128]\n",
      "  [127 127 127]\n",
      "  ...\n",
      "  [125 125 125]\n",
      "  [128 128 128]\n",
      "  [129 129 129]]\n",
      "\n",
      " [[132 132 132]\n",
      "  [132 132 132]\n",
      "  [131 131 131]\n",
      "  ...\n",
      "  [134 134 134]\n",
      "  [136 136 136]\n",
      "  [134 134 134]]\n",
      "\n",
      " [[135 135 135]\n",
      "  [135 135 135]\n",
      "  [133 133 133]\n",
      "  ...\n",
      "  [138 138 138]\n",
      "  [141 141 141]\n",
      "  [139 139 139]]]\n",
      "torch.Size([3, 24, 24])\n"
     ]
    },
    {
     "data": {
      "text/plain": [
       "{'image': tensor([[[-1.0000, -1.0000, -1.0000, -1.0000, -1.0000, -1.0000, -1.0000,\n",
       "           -1.0000,  0.2391,  0.0666,  0.1136, -0.0040,  0.0273,  0.1058,\n",
       "           -0.0589, -0.0668, -0.1373, -0.1609, -0.0903,  0.0117,  0.0666,\n",
       "            0.0744, -1.0000, -1.0000],\n",
       "          [-1.0000, -0.1609, -0.1060, -0.1217, -0.1766, -0.1766,  0.0901,\n",
       "            0.4665,  0.0979, -0.0119,  0.0430, -0.0432, -0.0275, -0.0119,\n",
       "           -0.0119, -0.0275, -0.1060, -0.1922, -0.2001, -0.1530, -0.0824,\n",
       "           -0.0275, -0.0354, -1.0000],\n",
       "          [-0.1530, -0.2079, -0.1922, -0.1609, -0.2079, -0.1844, -0.0511,\n",
       "            0.1607,  0.1450, -0.0511, -0.0589, -0.0040, -0.0275, -0.0040,\n",
       "           -0.0824, -0.0824, -0.1844, -0.2471, -0.2158, -0.1844, -0.1766,\n",
       "           -0.1138, -0.0746, -1.0000],\n",
       "          [-0.1922, -0.2942, -0.2550, -0.2158, -0.2550, -0.1530,  0.0901,\n",
       "            0.2077, -0.1060, -0.1844, -0.0824, -0.0511, -0.0197,  0.0117,\n",
       "           -0.0903, -0.1452, -0.2550, -0.2785, -0.2158, -0.2236, -0.2863,\n",
       "           -0.2236, -0.1138, -1.0000],\n",
       "          [-0.2471, -0.3491, -0.3334, -0.2393, -0.1766, -0.0589,  0.1371,\n",
       "            0.1058, -0.3177, -0.2471, -0.1138, -0.1295, -0.0824, -0.0589,\n",
       "           -0.1373, -0.1844, -0.2942, -0.3020, -0.2314, -0.3020, -0.4197,\n",
       "           -0.3334, -0.0824, -1.0000],\n",
       "          [-0.2785, -0.3569, -0.3883, -0.2236, -0.0668, -0.0040,  0.0352,\n",
       "           -0.0981, -0.3805, -0.2158, -0.1373, -0.1844, -0.1452, -0.1530,\n",
       "           -0.1766, -0.2393, -0.3491, -0.3491, -0.2863, -0.3883, -0.5373,\n",
       "           -0.3883, -0.0197, -1.0000],\n",
       "          [-0.2863, -0.3334, -0.3726, -0.2079, -0.0589, -0.0903, -0.1766,\n",
       "           -0.2393, -0.3883, -0.1922, -0.1922, -0.2314, -0.1687, -0.2314,\n",
       "           -0.1922, -0.2942, -0.4118, -0.4040, -0.3334, -0.4510, -0.6000,\n",
       "           -0.3961, -0.0668, -1.0000],\n",
       "          [-0.2785, -0.3020, -0.3177, -0.2158, -0.2001, -0.3099, -0.3961,\n",
       "           -0.3334, -0.4275, -0.2393, -0.2863, -0.2942, -0.2079, -0.3020,\n",
       "           -0.2236, -0.3805, -0.4667, -0.3334, -0.3412, -0.6549, -0.6549,\n",
       "           -0.2863, -0.0746, -1.0000],\n",
       "          [-0.2707, -0.2863, -0.2628, -0.2314, -0.3491, -0.4981, -0.5216,\n",
       "           -0.4354, -0.4354, -0.3177, -0.3256, -0.3099, -0.3256, -0.3256,\n",
       "           -0.3334, -0.4510, -0.4981, -0.5765, -0.4589, -0.4667, -0.7020,\n",
       "           -0.6236, -0.2550, -0.1295],\n",
       "          [-0.2942, -0.3020, -0.3099, -0.3726, -0.4354, -0.4902, -0.5922,\n",
       "           -0.6941, -0.7883, -0.5922, -0.4824, -0.4824, -0.4667, -0.4902,\n",
       "           -0.5059, -0.7020, -0.6314, -0.6941, -0.6314, -0.6549, -0.7647,\n",
       "           -0.5922, -0.2158, -0.1373],\n",
       "          [-0.3412, -0.3020, -0.3177, -0.4354, -0.5373, -0.6236, -0.7334,\n",
       "           -0.8275, -0.7883, -0.6393, -0.5844, -0.6236, -0.6393, -0.7020,\n",
       "           -0.7412, -0.7569, -0.6393, -0.7020, -0.7098, -0.7255, -0.7255,\n",
       "           -0.4902, -0.1295, -0.0824],\n",
       "          [-0.2628, -0.2628, -0.3883, -0.5059, -0.6079, -0.6863, -0.7647,\n",
       "           -0.8196, -0.7883, -0.6314, -0.6393, -0.7020, -0.7255, -0.7883,\n",
       "           -0.8196, -0.6471, -0.5922, -0.6549, -0.6941, -0.6785, -0.5608,\n",
       "           -0.3256, -0.1217, -0.0746],\n",
       "          [-0.2942, -0.3099, -0.4040, -0.4981, -0.5922, -0.6706, -0.7255,\n",
       "           -0.7647, -0.7177, -0.6628, -0.7098, -0.7569, -0.7490, -0.7647,\n",
       "           -0.7490, -0.6157, -0.6000, -0.6706, -0.7177, -0.6314, -0.4275,\n",
       "           -0.2393, -0.2001, -0.1373],\n",
       "          [-0.3334, -0.3491, -0.3334, -0.4118, -0.5216, -0.6393, -0.7177,\n",
       "           -0.7490, -0.7020, -0.6000, -0.6863, -0.7412, -0.7255, -0.7412,\n",
       "           -0.7177, -0.6157, -0.5922, -0.6785, -0.7255, -0.5765, -0.3412,\n",
       "           -0.2236, -0.2393, -0.1687],\n",
       "          [-0.2785, -0.2942, -0.2707, -0.3099, -0.4118, -0.5295, -0.6000,\n",
       "           -0.6079, -0.5844, -0.4275, -0.5373, -0.6000, -0.6000, -0.6549,\n",
       "           -0.6628, -0.5765, -0.5216, -0.6157, -0.6628, -0.4902, -0.2471,\n",
       "           -0.2079, -0.2393, -0.2314],\n",
       "          [-0.2628, -0.2707, -0.2236, -0.2079, -0.2707, -0.3648, -0.3883,\n",
       "           -0.3648, -0.3883, -0.3177, -0.4118, -0.4118, -0.4589, -0.4432,\n",
       "           -0.4981, -0.5216, -0.5216, -0.4667, -0.5373, -0.4981, -0.3177,\n",
       "           -0.1766, -0.1687, -0.2001],\n",
       "          [-1.0000, -0.2550, -0.1766, -0.1452, -0.1295, -0.1844, -0.2628,\n",
       "           -0.2707, -0.2314, -0.2314, -0.2942, -0.3569, -0.3805, -0.3805,\n",
       "           -0.4040, -0.4667, -0.4197, -0.4354, -0.4510, -0.3883, -0.2550,\n",
       "           -0.1844, -0.2001, -0.1609],\n",
       "          [-1.0000, -0.1766, -0.1295, -0.1295, -0.1373, -0.1530, -0.1844,\n",
       "           -0.2158, -0.2314, -0.2314, -0.2707, -0.3099, -0.3256, -0.3256,\n",
       "           -0.3412, -0.3805, -0.3334, -0.3726, -0.3334, -0.2471, -0.1687,\n",
       "           -0.1766, -0.2158, -0.1217],\n",
       "          [-1.0000, -0.1295, -0.1060, -0.1060, -0.1138, -0.1373, -0.1687,\n",
       "           -0.2001, -0.2158, -0.2158, -0.2314, -0.2550, -0.2785, -0.3020,\n",
       "           -0.3177, -0.3256, -0.3177, -0.2785, -0.2314, -0.1609, -0.1217,\n",
       "           -0.1530, -0.1844, -0.0589],\n",
       "          [-1.0000, -0.1060, -0.0746, -0.0746, -0.0903, -0.1138, -0.1452,\n",
       "           -0.1766, -0.2001, -0.2079, -0.2079, -0.2236, -0.2628, -0.3099,\n",
       "           -0.3334, -0.3256, -0.2628, -0.1922, -0.1766, -0.1373, -0.1060,\n",
       "           -0.1060, -0.1060,  0.0038],\n",
       "          [-1.0000, -0.0746, -0.0511, -0.0511, -0.0668, -0.0903, -0.1295,\n",
       "           -0.1609, -0.1844, -0.2158, -0.2079, -0.2079, -0.2471, -0.2942,\n",
       "           -0.3099, -0.2942, -0.1687, -0.1373, -0.1452, -0.1373, -0.0981,\n",
       "           -0.0511, -0.0197,  0.0666],\n",
       "          [-1.0000, -0.0511, -0.0275, -0.0275, -0.0511, -0.0824, -0.1217,\n",
       "           -0.1530, -0.1766, -0.2158, -0.2001, -0.2001, -0.2236, -0.2393,\n",
       "           -0.2314, -0.2001, -0.1138, -0.1295, -0.1295, -0.1217, -0.0824,\n",
       "           -0.0119,  0.0509,  0.1058],\n",
       "          [-1.0000, -0.0275,  0.0038, -0.0040, -0.0275, -0.0589, -0.1060,\n",
       "           -0.1452, -0.1687, -0.1687, -0.1687, -0.1766, -0.1844, -0.1922,\n",
       "           -0.1922, -0.1687, -0.1373, -0.1295, -0.1373, -0.1217, -0.0981,\n",
       "           -0.0589,  0.0117, -1.0000],\n",
       "          [-1.0000, -1.0000,  0.0352,  0.0352,  0.0273,  0.0038, -0.0354,\n",
       "           -0.0824, -0.1217, -0.1295, -0.1217, -0.1373, -0.1609, -0.1766,\n",
       "           -0.1766, -0.1609, -1.0000, -1.0000, -1.0000, -1.0000, -1.0000,\n",
       "           -1.0000, -1.0000, -1.0000]]]),\n",
       " 'label': tensor(0.)}"
      ]
     },
     "execution_count": 13,
     "metadata": {},
     "output_type": "execute_result"
    }
   ],
   "source": [
    "train_dataset[0]"
   ]
  },
  {
   "cell_type": "code",
   "execution_count": null,
   "metadata": {},
   "outputs": [],
   "source": [
    "import matplotlib.pyplot as plt\n",
    "\n",
    "plt.imshow(val_dataset[0]['image'].permute(1,2,0).numpy()*255, cmap='binary')\n",
    "plt.title(int(val_dataset[0]['label'].numpy()))\n",
    "plt.show()"
   ]
  },
  {
   "cell_type": "code",
   "execution_count": null,
   "metadata": {},
   "outputs": [],
   "source": []
  },
  {
   "cell_type": "code",
   "execution_count": null,
   "metadata": {},
   "outputs": [],
   "source": []
  },
  {
   "cell_type": "code",
   "execution_count": null,
   "metadata": {},
   "outputs": [],
   "source": []
  },
  {
   "cell_type": "code",
   "execution_count": null,
   "metadata": {},
   "outputs": [],
   "source": []
  }
 ],
 "metadata": {
  "kernelspec": {
   "display_name": ".venv",
   "language": "python",
   "name": "python3"
  },
  "language_info": {
   "codemirror_mode": {
    "name": "ipython",
    "version": 3
   },
   "file_extension": ".py",
   "mimetype": "text/x-python",
   "name": "python",
   "nbconvert_exporter": "python",
   "pygments_lexer": "ipython3",
   "version": "3.8.18"
  }
 },
 "nbformat": 4,
 "nbformat_minor": 2
}
